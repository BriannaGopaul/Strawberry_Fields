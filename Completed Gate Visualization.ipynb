{
 "cells": [
  {
   "cell_type": "markdown",
   "metadata": {},
   "source": [
    "# Gate Visualization"
   ]
  },
  {
   "cell_type": "markdown",
   "metadata": {},
   "source": [
    "Here we will learn how to apply the squeezing gate on one qumode in the vacuum state and ouput the gaussian probability distribition of our new state. "
   ]
  },
  {
   "cell_type": "code",
   "execution_count": null,
   "metadata": {},
   "outputs": [],
   "source": []
  },
  {
   "cell_type": "markdown",
   "metadata": {},
   "source": [
    "## Vacuum State"
   ]
  },
  {
   "cell_type": "markdown",
   "metadata": {},
   "source": [
    "Vacuum state "
   ]
  },
  {
   "cell_type": "code",
   "execution_count": 5,
   "metadata": {},
   "outputs": [
    {
     "data": {
      "text/plain": [
       "<matplotlib.contour.QuadContourSet at 0x1253d7a90>"
      ]
     },
     "execution_count": 5,
     "metadata": {},
     "output_type": "execute_result"
    },
    {
     "data": {
      "image/png": "[encoded data removed]",
      "text/plain": [
       "<Figure size 432x288 with 1 Axes>"
      ]
     },
     "metadata": {},
     "output_type": "display_data"
    }
   ],
   "source": [
    "import strawberryfields as sf\n",
    "from strawberryfields.ops import *\n",
    "import numpy as np\n",
    "import matplotlib.pyplot as plt\n",
    "eng, q = sf.Engine(1)\n",
    "with eng:\n",
    "        Vac | q[0]\n",
    "state = eng.run('gaussian')\n",
    "dx = 0.01\n",
    "X = np.arange(-5, 5+dx, dx)\n",
    "w = state.wigner(0, X, X)\n",
    "x, y = np.meshgrid(X, X)\n",
    "plt.contourf(x, y, w)"
   ]
  },
  {
   "cell_type": "markdown",
   "metadata": {},
   "source": [
    "## Rotation Gate"
   ]
  },
  {
   "cell_type": "markdown",
   "metadata": {},
   "source": [
    "Import strawberryfields, numpy and matplotlib.pyplot. "
   ]
  },
  {
   "cell_type": "code",
   "execution_count": 2,
   "metadata": {},
   "outputs": [],
   "source": [
    "import strawberryfields as sf\n",
    "from strawberryfields.ops import *\n",
    "from strawberryfields.utils import scale\n",
    "import numpy as np\n",
    "import matplotlib.pyplot as plt"
   ]
  },
  {
   "cell_type": "markdown",
   "metadata": {},
   "source": [
    "Initialize engine with one qumode."
   ]
  },
  {
   "cell_type": "code",
   "execution_count": 3,
   "metadata": {},
   "outputs": [],
   "source": [
    "eng, q = sf.Engine(1)"
   ]
  },
  {
   "cell_type": "markdown",
   "metadata": {},
   "source": [
    "Apply Rotation Gate"
   ]
  },
  {
   "cell_type": "code",
   "execution_count": 4,
   "metadata": {},
   "outputs": [],
   "source": [
    "with eng:\n",
    "    Rgate(0.55)"
   ]
  },
  {
   "cell_type": "markdown",
   "metadata": {},
   "source": [
    "Measurement "
   ]
  },
  {
   "cell_type": "code",
   "execution_count": 5,
   "metadata": {},
   "outputs": [],
   "source": [
    "state = eng.run('gaussian')"
   ]
  },
  {
   "cell_type": "markdown",
   "metadata": {},
   "source": [
    "Use wigner function to plot gaussian probability distribution of new state. "
   ]
  },
  {
   "cell_type": "code",
   "execution_count": 6,
   "metadata": {},
   "outputs": [
    {
     "data": {
      "text/plain": [
       "<matplotlib.contour.QuadContourSet at 0x11bb28f60>"
      ]
     },
     "execution_count": 6,
     "metadata": {},
     "output_type": "execute_result"
    },
    {
     "data": {
      "image/png": "[encoded data removed]",
      "text/plain": [
       "<Figure size 432x288 with 1 Axes>"
      ]
     },
     "metadata": {},
     "output_type": "display_data"
    }
   ],
   "source": [
    "state = eng.run('gaussian')\n",
    "dx = 0.01\n",
    "X = np.arange(-5, 5+dx, dx)\n",
    "\n",
    "w = state.wigner(0, X, X)\n",
    "x, y = np.meshgrid(X, X)\n",
    "plt.contourf(x, y, w)"
   ]
  },
  {
   "cell_type": "markdown",
   "metadata": {},
   "source": [
    "## Squeezing Gate"
   ]
  },
  {
   "cell_type": "code",
   "execution_count": 7,
   "metadata": {},
   "outputs": [
    {
     "data": {
      "text/plain": [
       "<matplotlib.contour.QuadContourSet at 0x11bfcf6d8>"
      ]
     },
     "execution_count": 7,
     "metadata": {},
     "output_type": "execute_result"
    },
    {
     "data": {
      "image/png": "[encoded data removed]",
      "text/plain": [
       "<Figure size 432x288 with 1 Axes>"
      ]
     },
     "metadata": {},
     "output_type": "display_data"
    }
   ],
   "source": [
    "import strawberryfields as sf\n",
    "from strawberryfields.ops import *\n",
    "from strawberryfields.utils import scale\n",
    "import numpy as np\n",
    "import matplotlib.pyplot as plt\n",
    "\n",
    "eng, q = sf.Engine(1)\n",
    "\n",
    "with eng:\n",
    "    S = Sgate(1)\n",
    "    S | q[0]\n",
    "    \n",
    "state = eng.run('gaussian')\n",
    "dx = 0.01\n",
    "X = np.arange(-5, 5+dx, dx)\n",
    "\n",
    "w = state.wigner(0, X, X)\n",
    "x, y = np.meshgrid(X, X)\n",
    "plt.contourf(x, y, w)"
   ]
  },
  {
   "cell_type": "markdown",
   "metadata": {},
   "source": [
    "## Displacement Gate "
   ]
  },
  {
   "cell_type": "code",
   "execution_count": 17,
   "metadata": {},
   "outputs": [
    {
     "data": {
      "text/plain": [
       "<matplotlib.contour.QuadContourSet at 0x120570c50>"
      ]
     },
     "execution_count": 17,
     "metadata": {},
     "output_type": "execute_result"
    },
    {
     "data": {
      "image/png": "[encoded data removed]",
      "text/plain": [
       "<Figure size 432x288 with 1 Axes>"
      ]
     },
     "metadata": {},
     "output_type": "display_data"
    }
   ],
   "source": [
    "import strawberryfields as sf\n",
    "from strawberryfields.ops import *\n",
    "import matplotlib.pyplot as plt\n",
    "import numpy as np\n",
    "eng, q = sf.Engine(1)\n",
    "with eng:\n",
    "    Dgate(0.55) | q[0]\n",
    "state = eng.run('gaussian')\n",
    "dx = 0.1\n",
    "X = np.arange(-5, 5+dx, dx)\n",
    "\n",
    "w = state.wigner(0, X, X)\n",
    "x, y = np.meshgrid(X, X)\n",
    "plt.contourf(x, y, w)"
   ]
  },
  {
   "cell_type": "markdown",
   "metadata": {},
   "source": [
    "## Beamsplitter"
   ]
  },
  {
   "cell_type": "code",
   "execution_count": 31,
   "metadata": {},
   "outputs": [
    {
     "data": {
      "text/plain": [
       "<matplotlib.contour.QuadContourSet at 0x120c30e10>"
      ]
     },
     "execution_count": 31,
     "metadata": {},
     "output_type": "execute_result"
    },
    {
     "data": {
      "image/png": "[encoded data removed]",
      "text/plain": [
       "<Figure size 432x288 with 1 Axes>"
      ]
     },
     "metadata": {},
     "output_type": "display_data"
    }
   ],
   "source": [
    "import strawberryfields as sf\n",
    "from strawberryfields.ops import *\n",
    "import numpy as np\n",
    "eng, q = sf.Engine(2)\n",
    "with eng:\n",
    "    BS | (q[0], q[1]) #50 50 beamsplitter is applied\n",
    "state = eng.run('gaussian')\n",
    "dx = 0.1\n",
    "X = np.arange(-5, 5+dx, dx)\n",
    "\n",
    "w = state.wigner(0, X, X)\n",
    "x, y = np.meshgrid(X, X)\n",
    "plt.contourf(x, y, w)"
   ]
  },
  {
   "cell_type": "markdown",
   "metadata": {},
   "source": [
    "## P Gate "
   ]
  },
  {
   "cell_type": "code",
   "execution_count": 20,
   "metadata": {},
   "outputs": [
    {
     "data": {
      "text/plain": [
       "<matplotlib.contour.QuadContourSet at 0x1206ae4e0>"
      ]
     },
     "execution_count": 20,
     "metadata": {},
     "output_type": "execute_result"
    },
    {
     "data": {
      "image/png": "[encoded data removed]",
      "text/plain": [
       "<Figure size 432x288 with 1 Axes>"
      ]
     },
     "metadata": {},
     "output_type": "display_data"
    }
   ],
   "source": [
    "import strawberryfields as sf\n",
    "from strawberryfields.ops import *\n",
    "import numpy as np\n",
    "eng, q = sf.Engine(1)\n",
    "with eng:\n",
    "    P = Pgate\n",
    "    P(0.55) | q[0]\n",
    "state = eng.run('gaussian')\n",
    "dx = 0.1\n",
    "X = np.arange(-5, 5+dx, dx)\n",
    "\n",
    "w = state.wigner(0, X, X)\n",
    "x, y = np.meshgrid(X, X)\n",
    "plt.contourf(x, y, w)"
   ]
  },
  {
   "cell_type": "markdown",
   "metadata": {},
   "source": [
    "## Cubic Phase Gate "
   ]
  },
  {
   "cell_type": "markdown",
   "metadata": {},
   "source": [
    "The cubic phase gate uses the Fock backend because it is non-gaussian.  "
   ]
  },
  {
   "cell_type": "code",
   "execution_count": 46,
   "metadata": {},
   "outputs": [
    {
     "data": {
      "text/plain": [
       "<matplotlib.contour.QuadContourSet at 0x1211b6240>"
      ]
     },
     "execution_count": 46,
     "metadata": {},
     "output_type": "execute_result"
    },
    {
     "data": {
      "image/png": "[encoded data removed]",
      "text/plain": [
       "<Figure size 432x288 with 1 Axes>"
      ]
     },
     "metadata": {},
     "output_type": "display_data"
    }
   ],
   "source": [
    "import strawberryfields as sf\n",
    "from strawberryfields.ops import *\n",
    "import numpy as np\n",
    "eng, q = sf.Engine(1)\n",
    "cutoff_dim = 6\n",
    "with eng:\n",
    "    gamma = 0.55\n",
    "    Vgate(gamma) | q[0]\n",
    "state = eng.run('fock', cutoff_dim=7)\n",
    "dx = 0.1\n",
    "X = np.arange(-5, 5+dx, dx)\n",
    "\n",
    "w = state.wigner(0, X, X)\n",
    "x, y = np.meshgrid(X, X)\n",
    "plt.contourf(x, y, w)"
   ]
  },
  {
   "cell_type": "markdown",
   "metadata": {},
   "source": [
    "## Kerr Gate "
   ]
  },
  {
   "cell_type": "markdown",
   "metadata": {},
   "source": [
    "The Kerr gate is also non-gaussian and thus uses the Fock backend. "
   ]
  },
  {
   "cell_type": "code",
   "execution_count": 49,
   "metadata": {},
   "outputs": [
    {
     "data": {
      "text/plain": [
       "<matplotlib.contour.QuadContourSet at 0x11d0c6c18>"
      ]
     },
     "execution_count": 49,
     "metadata": {},
     "output_type": "execute_result"
    },
    {
     "data": {
      "image/png": "[encoded data removed]",
      "text/plain": [
       "<Figure size 432x288 with 1 Axes>"
      ]
     },
     "metadata": {},
     "output_type": "display_data"
    }
   ],
   "source": [
    "import strawberryfields as sf\n",
    "from strawberryfields.ops import *\n",
    "import numpy as np\n",
    "eng, q = sf.Engine(1)\n",
    "with eng:\n",
    "    kappa = 0.55\n",
    "    Kgate(kappa) | q[0]\n",
    "state = eng.run('fock', cutoff_dim=7)\n",
    "dx = 0.1\n",
    "X = np.arange(-5, 5+dx, dx)\n",
    "\n",
    "w = state.wigner(0, X, X)\n",
    "x, y = np.meshgrid(X, X)\n",
    "plt.contourf(x, y, w)"
   ]
  },
  {
   "cell_type": "code",
   "execution_count": null,
   "metadata": {},
   "outputs": [],
   "source": []
  }
 ],
 "metadata": {
  "kernelspec": {
   "display_name": "Python 3",
   "language": "python",
   "name": "python3"
  },
  "language_info": {
   "codemirror_mode": {
    "name": "ipython",
    "version": 3
   },
   "file_extension": ".py",
   "mimetype": "text/x-python",
   "name": "python",
   "nbconvert_exporter": "python",
   "pygments_lexer": "ipython3",
   "version": "3.6.6"
  }
 },
 "nbformat": 4,
 "nbformat_minor": 2
}
